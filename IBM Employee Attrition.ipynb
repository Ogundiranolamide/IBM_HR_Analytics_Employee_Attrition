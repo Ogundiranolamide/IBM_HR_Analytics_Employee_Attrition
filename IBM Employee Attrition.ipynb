{
 "cells": [
  {
   "cell_type": "markdown",
   "id": "f5e20dea",
   "metadata": {},
   "source": [
    "# IBM HR Analytics Employee Attrition.\n",
    "\n",
    "### This projects covers key areas such as:\n",
    "----\n",
    "<ul>\n",
    "<li><a href=\"#Extraction\">Extraction</a></li>\n",
    "<li><a href=\"#Analysis\">Analysis</a></li>\n",
    "<li><a href=\"#Visualization\">Visualization</a></li>\n",
    "</ul>\n",
    "\n",
    "\n",
    "\n",
    "### Task \n",
    "----\n",
    "\n",
    "> Using the [attr_data.db](https://drive.google.com/file/d/13cdx4kWB6-WZe1VTjPqnFRgYzzGZHt2x/view?usp=sharing), extract all the data from the only table in the database using SQL. Once the data is extracted, import the data into Pandas and continue with the analysis.\n",
    "> #### The following questions should be answered:\n",
    "> #### <li><a href=\"#What do you think are the 3 factors behind employee attrition?\">What do you think are the 3 factors behind employee attrition?</a></li>\n",
    ">#### <li><a href=\"#What is the relationship between Education and Monthly Income?\">What is the relationship between Education and Monthly Income?</a></li>\n",
    ">#### <li><a href=\"#What is the effect of age on attrition?\">What is the effect of age on attrition?</a></li>\n",
    ">#### <li><a href=\"#Is Income the main factor towards employee attrition?\">Is Income the main factor towards employee attrition??</a></li>\n",
    ">#### <li><a href=\"#How does work-life balance impact the overall attrition rate?\">How does work-life balance impact the overall attrition rate?</a></li>"
   ]
  },
  {
   "cell_type": "code",
   "execution_count": 1,
   "id": "5440108e",
   "metadata": {},
   "outputs": [
    {
     "name": "stdout",
     "output_type": "stream",
     "text": [
      "Requirement already satisfied: Pillow in c:\\users\\hp\\anaconda3\\lib\\site-packages (9.3.0)\n"
     ]
    }
   ],
   "source": [
    "!pip install Pillow"
   ]
  },
  {
   "cell_type": "markdown",
   "id": "f9395f34",
   "metadata": {},
   "source": [
    "### Importing packages"
   ]
  },
  {
   "cell_type": "code",
   "execution_count": 2,
   "id": "c99a7e46",
   "metadata": {},
   "outputs": [],
   "source": [
    "# creating the sql engine and connecting\n",
    "import sqlalchemy\n",
    "from sqlalchemy import create_engine"
   ]
  },
  {
   "cell_type": "code",
   "execution_count": 3,
   "id": "15b2e41c",
   "metadata": {},
   "outputs": [
    {
     "name": "stdout",
     "output_type": "stream",
     "text": [
      "C:\\Users\\HP\\anaconda3\\python.exe\n"
     ]
    }
   ],
   "source": [
    "import sys\n",
    "print(sys.executable)"
   ]
  },
  {
   "cell_type": "code",
   "execution_count": 4,
   "id": "0c8e98a7",
   "metadata": {},
   "outputs": [],
   "source": [
    "# Manipulation and data visualisation\n",
    "import pandas as pd\n",
    "import numpy as np\n",
    "import matplotlib.pyplot as plt\n",
    "from matplotlib import style\n",
    "import seaborn as sns\n",
    "\n",
    "# sets matplotlib to inline and displays graphs below the corressponding cell.\n",
    "%matplotlib inline\n",
    "style.use('fivethirtyeight')\n",
    "sns.set(style='whitegrid',color_codes=True)\n",
    "\n",
    "# Ignore  the warnings\n",
    "import warnings\n",
    "warnings.filterwarnings('always')\n",
    "warnings.filterwarnings('ignore')\n",
    "\n",
    "# creating the sql engine and connecting\n",
    "import sqlalchemy\n",
    "from sqlalchemy import create_engine"
   ]
  },
  {
   "cell_type": "markdown",
   "id": "8da34fce",
   "metadata": {},
   "source": [
    "<a id='Extraction'></a>\n",
    "## Extraction"
   ]
  },
  {
   "cell_type": "markdown",
   "id": "5ac0ebcc",
   "metadata": {},
   "source": [
    "##### Note Sqlalchemy library has been imported which is used in creating the sql engine"
   ]
  },
  {
   "cell_type": "markdown",
   "id": "6f268a63",
   "metadata": {},
   "source": [
    "### Engine connection examples\n",
    "Click [Link](https://pandas.pydata.org/pandas-docs/stable/user_guide/io.html#engine-connection-examples) to view documentation"
   ]
  },
  {
   "cell_type": "code",
   "execution_count": 5,
   "id": "d7ae5928",
   "metadata": {},
   "outputs": [],
   "source": [
    "engine = create_engine(\"sqlite:///attr_data.db\")"
   ]
  },
  {
   "cell_type": "code",
   "execution_count": 6,
   "id": "ca82dc12",
   "metadata": {
    "scrolled": true
   },
   "outputs": [
    {
     "data": {
      "text/html": [
       "<div>\n",
       "<style scoped>\n",
       "    .dataframe tbody tr th:only-of-type {\n",
       "        vertical-align: middle;\n",
       "    }\n",
       "\n",
       "    .dataframe tbody tr th {\n",
       "        vertical-align: top;\n",
       "    }\n",
       "\n",
       "    .dataframe thead th {\n",
       "        text-align: right;\n",
       "    }\n",
       "</style>\n",
       "<table border=\"1\" class=\"dataframe\">\n",
       "  <thead>\n",
       "    <tr style=\"text-align: right;\">\n",
       "      <th></th>\n",
       "      <th>id</th>\n",
       "      <th>Age</th>\n",
       "      <th>Attrition</th>\n",
       "      <th>BusinessTravel</th>\n",
       "      <th>DailyRate</th>\n",
       "      <th>Department</th>\n",
       "      <th>DistanceFromHome</th>\n",
       "      <th>Education</th>\n",
       "      <th>EducationField</th>\n",
       "      <th>EmployeeCount</th>\n",
       "      <th>...</th>\n",
       "      <th>RelationshipSatisfaction</th>\n",
       "      <th>StandardHours</th>\n",
       "      <th>StockOptionLevel</th>\n",
       "      <th>TotalWorkingYears</th>\n",
       "      <th>TrainingTimesLastYear</th>\n",
       "      <th>WorkLifeBalance</th>\n",
       "      <th>YearsAtCompany</th>\n",
       "      <th>YearsInCurrentRole</th>\n",
       "      <th>YearsSinceLastPromotion</th>\n",
       "      <th>YearsWithCurrManager</th>\n",
       "    </tr>\n",
       "  </thead>\n",
       "  <tbody>\n",
       "    <tr>\n",
       "      <th>0</th>\n",
       "      <td>1</td>\n",
       "      <td>41</td>\n",
       "      <td>Yes</td>\n",
       "      <td>Travel_Rarely</td>\n",
       "      <td>1102</td>\n",
       "      <td>Sales</td>\n",
       "      <td>1</td>\n",
       "      <td>2</td>\n",
       "      <td>Life Sciences</td>\n",
       "      <td>1</td>\n",
       "      <td>...</td>\n",
       "      <td>1</td>\n",
       "      <td>80</td>\n",
       "      <td>0</td>\n",
       "      <td>8</td>\n",
       "      <td>0</td>\n",
       "      <td>1</td>\n",
       "      <td>6</td>\n",
       "      <td>4</td>\n",
       "      <td>0</td>\n",
       "      <td>5</td>\n",
       "    </tr>\n",
       "    <tr>\n",
       "      <th>1</th>\n",
       "      <td>2</td>\n",
       "      <td>49</td>\n",
       "      <td>No</td>\n",
       "      <td>Travel_Frequently</td>\n",
       "      <td>279</td>\n",
       "      <td>Research &amp; Development</td>\n",
       "      <td>8</td>\n",
       "      <td>1</td>\n",
       "      <td>Life Sciences</td>\n",
       "      <td>1</td>\n",
       "      <td>...</td>\n",
       "      <td>4</td>\n",
       "      <td>80</td>\n",
       "      <td>1</td>\n",
       "      <td>10</td>\n",
       "      <td>3</td>\n",
       "      <td>3</td>\n",
       "      <td>10</td>\n",
       "      <td>7</td>\n",
       "      <td>1</td>\n",
       "      <td>7</td>\n",
       "    </tr>\n",
       "    <tr>\n",
       "      <th>2</th>\n",
       "      <td>3</td>\n",
       "      <td>37</td>\n",
       "      <td>Yes</td>\n",
       "      <td>Travel_Rarely</td>\n",
       "      <td>1373</td>\n",
       "      <td>Research &amp; Development</td>\n",
       "      <td>2</td>\n",
       "      <td>2</td>\n",
       "      <td>Other</td>\n",
       "      <td>1</td>\n",
       "      <td>...</td>\n",
       "      <td>2</td>\n",
       "      <td>80</td>\n",
       "      <td>0</td>\n",
       "      <td>7</td>\n",
       "      <td>3</td>\n",
       "      <td>3</td>\n",
       "      <td>0</td>\n",
       "      <td>0</td>\n",
       "      <td>0</td>\n",
       "      <td>0</td>\n",
       "    </tr>\n",
       "    <tr>\n",
       "      <th>3</th>\n",
       "      <td>4</td>\n",
       "      <td>33</td>\n",
       "      <td>No</td>\n",
       "      <td>Travel_Frequently</td>\n",
       "      <td>1392</td>\n",
       "      <td>Research &amp; Development</td>\n",
       "      <td>3</td>\n",
       "      <td>4</td>\n",
       "      <td>Life Sciences</td>\n",
       "      <td>1</td>\n",
       "      <td>...</td>\n",
       "      <td>3</td>\n",
       "      <td>80</td>\n",
       "      <td>0</td>\n",
       "      <td>8</td>\n",
       "      <td>3</td>\n",
       "      <td>3</td>\n",
       "      <td>8</td>\n",
       "      <td>7</td>\n",
       "      <td>3</td>\n",
       "      <td>0</td>\n",
       "    </tr>\n",
       "    <tr>\n",
       "      <th>4</th>\n",
       "      <td>5</td>\n",
       "      <td>27</td>\n",
       "      <td>No</td>\n",
       "      <td>Travel_Rarely</td>\n",
       "      <td>591</td>\n",
       "      <td>Research &amp; Development</td>\n",
       "      <td>2</td>\n",
       "      <td>1</td>\n",
       "      <td>Medical</td>\n",
       "      <td>1</td>\n",
       "      <td>...</td>\n",
       "      <td>4</td>\n",
       "      <td>80</td>\n",
       "      <td>1</td>\n",
       "      <td>6</td>\n",
       "      <td>3</td>\n",
       "      <td>3</td>\n",
       "      <td>2</td>\n",
       "      <td>2</td>\n",
       "      <td>2</td>\n",
       "      <td>2</td>\n",
       "    </tr>\n",
       "    <tr>\n",
       "      <th>...</th>\n",
       "      <td>...</td>\n",
       "      <td>...</td>\n",
       "      <td>...</td>\n",
       "      <td>...</td>\n",
       "      <td>...</td>\n",
       "      <td>...</td>\n",
       "      <td>...</td>\n",
       "      <td>...</td>\n",
       "      <td>...</td>\n",
       "      <td>...</td>\n",
       "      <td>...</td>\n",
       "      <td>...</td>\n",
       "      <td>...</td>\n",
       "      <td>...</td>\n",
       "      <td>...</td>\n",
       "      <td>...</td>\n",
       "      <td>...</td>\n",
       "      <td>...</td>\n",
       "      <td>...</td>\n",
       "      <td>...</td>\n",
       "      <td>...</td>\n",
       "    </tr>\n",
       "    <tr>\n",
       "      <th>1465</th>\n",
       "      <td>1466</td>\n",
       "      <td>36</td>\n",
       "      <td>No</td>\n",
       "      <td>Travel_Frequently</td>\n",
       "      <td>884</td>\n",
       "      <td>Research &amp; Development</td>\n",
       "      <td>23</td>\n",
       "      <td>2</td>\n",
       "      <td>Medical</td>\n",
       "      <td>1</td>\n",
       "      <td>...</td>\n",
       "      <td>3</td>\n",
       "      <td>80</td>\n",
       "      <td>1</td>\n",
       "      <td>17</td>\n",
       "      <td>3</td>\n",
       "      <td>3</td>\n",
       "      <td>5</td>\n",
       "      <td>2</td>\n",
       "      <td>0</td>\n",
       "      <td>3</td>\n",
       "    </tr>\n",
       "    <tr>\n",
       "      <th>1466</th>\n",
       "      <td>1467</td>\n",
       "      <td>39</td>\n",
       "      <td>No</td>\n",
       "      <td>Travel_Rarely</td>\n",
       "      <td>613</td>\n",
       "      <td>Research &amp; Development</td>\n",
       "      <td>6</td>\n",
       "      <td>1</td>\n",
       "      <td>Medical</td>\n",
       "      <td>1</td>\n",
       "      <td>...</td>\n",
       "      <td>1</td>\n",
       "      <td>80</td>\n",
       "      <td>1</td>\n",
       "      <td>9</td>\n",
       "      <td>5</td>\n",
       "      <td>3</td>\n",
       "      <td>7</td>\n",
       "      <td>7</td>\n",
       "      <td>1</td>\n",
       "      <td>7</td>\n",
       "    </tr>\n",
       "    <tr>\n",
       "      <th>1467</th>\n",
       "      <td>1468</td>\n",
       "      <td>27</td>\n",
       "      <td>No</td>\n",
       "      <td>Travel_Rarely</td>\n",
       "      <td>155</td>\n",
       "      <td>Research &amp; Development</td>\n",
       "      <td>4</td>\n",
       "      <td>3</td>\n",
       "      <td>Life Sciences</td>\n",
       "      <td>1</td>\n",
       "      <td>...</td>\n",
       "      <td>2</td>\n",
       "      <td>80</td>\n",
       "      <td>1</td>\n",
       "      <td>6</td>\n",
       "      <td>0</td>\n",
       "      <td>3</td>\n",
       "      <td>6</td>\n",
       "      <td>2</td>\n",
       "      <td>0</td>\n",
       "      <td>3</td>\n",
       "    </tr>\n",
       "    <tr>\n",
       "      <th>1468</th>\n",
       "      <td>1469</td>\n",
       "      <td>49</td>\n",
       "      <td>No</td>\n",
       "      <td>Travel_Frequently</td>\n",
       "      <td>1023</td>\n",
       "      <td>Sales</td>\n",
       "      <td>2</td>\n",
       "      <td>3</td>\n",
       "      <td>Medical</td>\n",
       "      <td>1</td>\n",
       "      <td>...</td>\n",
       "      <td>4</td>\n",
       "      <td>80</td>\n",
       "      <td>0</td>\n",
       "      <td>17</td>\n",
       "      <td>3</td>\n",
       "      <td>2</td>\n",
       "      <td>9</td>\n",
       "      <td>6</td>\n",
       "      <td>0</td>\n",
       "      <td>8</td>\n",
       "    </tr>\n",
       "    <tr>\n",
       "      <th>1469</th>\n",
       "      <td>1470</td>\n",
       "      <td>34</td>\n",
       "      <td>No</td>\n",
       "      <td>Travel_Rarely</td>\n",
       "      <td>628</td>\n",
       "      <td>Research &amp; Development</td>\n",
       "      <td>8</td>\n",
       "      <td>3</td>\n",
       "      <td>Medical</td>\n",
       "      <td>1</td>\n",
       "      <td>...</td>\n",
       "      <td>1</td>\n",
       "      <td>80</td>\n",
       "      <td>0</td>\n",
       "      <td>6</td>\n",
       "      <td>3</td>\n",
       "      <td>4</td>\n",
       "      <td>4</td>\n",
       "      <td>3</td>\n",
       "      <td>1</td>\n",
       "      <td>2</td>\n",
       "    </tr>\n",
       "  </tbody>\n",
       "</table>\n",
       "<p>1470 rows × 36 columns</p>\n",
       "</div>"
      ],
      "text/plain": [
       "        id  Age Attrition     BusinessTravel  DailyRate  \\\n",
       "0        1   41       Yes      Travel_Rarely       1102   \n",
       "1        2   49        No  Travel_Frequently        279   \n",
       "2        3   37       Yes      Travel_Rarely       1373   \n",
       "3        4   33        No  Travel_Frequently       1392   \n",
       "4        5   27        No      Travel_Rarely        591   \n",
       "...    ...  ...       ...                ...        ...   \n",
       "1465  1466   36        No  Travel_Frequently        884   \n",
       "1466  1467   39        No      Travel_Rarely        613   \n",
       "1467  1468   27        No      Travel_Rarely        155   \n",
       "1468  1469   49        No  Travel_Frequently       1023   \n",
       "1469  1470   34        No      Travel_Rarely        628   \n",
       "\n",
       "                  Department  DistanceFromHome  Education EducationField  \\\n",
       "0                      Sales                 1          2  Life Sciences   \n",
       "1     Research & Development                 8          1  Life Sciences   \n",
       "2     Research & Development                 2          2          Other   \n",
       "3     Research & Development                 3          4  Life Sciences   \n",
       "4     Research & Development                 2          1        Medical   \n",
       "...                      ...               ...        ...            ...   \n",
       "1465  Research & Development                23          2        Medical   \n",
       "1466  Research & Development                 6          1        Medical   \n",
       "1467  Research & Development                 4          3  Life Sciences   \n",
       "1468                   Sales                 2          3        Medical   \n",
       "1469  Research & Development                 8          3        Medical   \n",
       "\n",
       "      EmployeeCount  ...  RelationshipSatisfaction  StandardHours  \\\n",
       "0                 1  ...                         1             80   \n",
       "1                 1  ...                         4             80   \n",
       "2                 1  ...                         2             80   \n",
       "3                 1  ...                         3             80   \n",
       "4                 1  ...                         4             80   \n",
       "...             ...  ...                       ...            ...   \n",
       "1465              1  ...                         3             80   \n",
       "1466              1  ...                         1             80   \n",
       "1467              1  ...                         2             80   \n",
       "1468              1  ...                         4             80   \n",
       "1469              1  ...                         1             80   \n",
       "\n",
       "     StockOptionLevel  TotalWorkingYears  TrainingTimesLastYear  \\\n",
       "0                   0                  8                      0   \n",
       "1                   1                 10                      3   \n",
       "2                   0                  7                      3   \n",
       "3                   0                  8                      3   \n",
       "4                   1                  6                      3   \n",
       "...               ...                ...                    ...   \n",
       "1465                1                 17                      3   \n",
       "1466                1                  9                      5   \n",
       "1467                1                  6                      0   \n",
       "1468                0                 17                      3   \n",
       "1469                0                  6                      3   \n",
       "\n",
       "      WorkLifeBalance YearsAtCompany  YearsInCurrentRole  \\\n",
       "0                   1              6                   4   \n",
       "1                   3             10                   7   \n",
       "2                   3              0                   0   \n",
       "3                   3              8                   7   \n",
       "4                   3              2                   2   \n",
       "...               ...            ...                 ...   \n",
       "1465                3              5                   2   \n",
       "1466                3              7                   7   \n",
       "1467                3              6                   2   \n",
       "1468                2              9                   6   \n",
       "1469                4              4                   3   \n",
       "\n",
       "     YearsSinceLastPromotion  YearsWithCurrManager  \n",
       "0                          0                     5  \n",
       "1                          1                     7  \n",
       "2                          0                     0  \n",
       "3                          3                     0  \n",
       "4                          2                     2  \n",
       "...                      ...                   ...  \n",
       "1465                       0                     3  \n",
       "1466                       1                     7  \n",
       "1467                       0                     3  \n",
       "1468                       0                     8  \n",
       "1469                       1                     2  \n",
       "\n",
       "[1470 rows x 36 columns]"
      ]
     },
     "execution_count": 6,
     "metadata": {},
     "output_type": "execute_result"
    }
   ],
   "source": [
    "df = pd.read_sql_table('attrition_records',engine)\n",
    "df"
   ]
  },
  {
   "cell_type": "markdown",
   "id": "6f54418f",
   "metadata": {},
   "source": [
    "<a id='Analysis'></a>\n",
    "## Analysis"
   ]
  },
  {
   "cell_type": "markdown",
   "id": "aba74ebf",
   "metadata": {},
   "source": [
    "### Exploratory Data Analysis"
   ]
  },
  {
   "cell_type": "code",
   "execution_count": 7,
   "id": "0eba012b",
   "metadata": {},
   "outputs": [
    {
     "data": {
      "text/html": [
       "<div>\n",
       "<style scoped>\n",
       "    .dataframe tbody tr th:only-of-type {\n",
       "        vertical-align: middle;\n",
       "    }\n",
       "\n",
       "    .dataframe tbody tr th {\n",
       "        vertical-align: top;\n",
       "    }\n",
       "\n",
       "    .dataframe thead th {\n",
       "        text-align: right;\n",
       "    }\n",
       "</style>\n",
       "<table border=\"1\" class=\"dataframe\">\n",
       "  <thead>\n",
       "    <tr style=\"text-align: right;\">\n",
       "      <th></th>\n",
       "      <th>id</th>\n",
       "      <th>Age</th>\n",
       "      <th>Attrition</th>\n",
       "      <th>BusinessTravel</th>\n",
       "      <th>DailyRate</th>\n",
       "      <th>Department</th>\n",
       "      <th>DistanceFromHome</th>\n",
       "      <th>Education</th>\n",
       "      <th>EducationField</th>\n",
       "      <th>EmployeeCount</th>\n",
       "      <th>...</th>\n",
       "      <th>RelationshipSatisfaction</th>\n",
       "      <th>StandardHours</th>\n",
       "      <th>StockOptionLevel</th>\n",
       "      <th>TotalWorkingYears</th>\n",
       "      <th>TrainingTimesLastYear</th>\n",
       "      <th>WorkLifeBalance</th>\n",
       "      <th>YearsAtCompany</th>\n",
       "      <th>YearsInCurrentRole</th>\n",
       "      <th>YearsSinceLastPromotion</th>\n",
       "      <th>YearsWithCurrManager</th>\n",
       "    </tr>\n",
       "  </thead>\n",
       "  <tbody>\n",
       "    <tr>\n",
       "      <th>0</th>\n",
       "      <td>1</td>\n",
       "      <td>41</td>\n",
       "      <td>Yes</td>\n",
       "      <td>Travel_Rarely</td>\n",
       "      <td>1102</td>\n",
       "      <td>Sales</td>\n",
       "      <td>1</td>\n",
       "      <td>2</td>\n",
       "      <td>Life Sciences</td>\n",
       "      <td>1</td>\n",
       "      <td>...</td>\n",
       "      <td>1</td>\n",
       "      <td>80</td>\n",
       "      <td>0</td>\n",
       "      <td>8</td>\n",
       "      <td>0</td>\n",
       "      <td>1</td>\n",
       "      <td>6</td>\n",
       "      <td>4</td>\n",
       "      <td>0</td>\n",
       "      <td>5</td>\n",
       "    </tr>\n",
       "    <tr>\n",
       "      <th>1</th>\n",
       "      <td>2</td>\n",
       "      <td>49</td>\n",
       "      <td>No</td>\n",
       "      <td>Travel_Frequently</td>\n",
       "      <td>279</td>\n",
       "      <td>Research &amp; Development</td>\n",
       "      <td>8</td>\n",
       "      <td>1</td>\n",
       "      <td>Life Sciences</td>\n",
       "      <td>1</td>\n",
       "      <td>...</td>\n",
       "      <td>4</td>\n",
       "      <td>80</td>\n",
       "      <td>1</td>\n",
       "      <td>10</td>\n",
       "      <td>3</td>\n",
       "      <td>3</td>\n",
       "      <td>10</td>\n",
       "      <td>7</td>\n",
       "      <td>1</td>\n",
       "      <td>7</td>\n",
       "    </tr>\n",
       "    <tr>\n",
       "      <th>2</th>\n",
       "      <td>3</td>\n",
       "      <td>37</td>\n",
       "      <td>Yes</td>\n",
       "      <td>Travel_Rarely</td>\n",
       "      <td>1373</td>\n",
       "      <td>Research &amp; Development</td>\n",
       "      <td>2</td>\n",
       "      <td>2</td>\n",
       "      <td>Other</td>\n",
       "      <td>1</td>\n",
       "      <td>...</td>\n",
       "      <td>2</td>\n",
       "      <td>80</td>\n",
       "      <td>0</td>\n",
       "      <td>7</td>\n",
       "      <td>3</td>\n",
       "      <td>3</td>\n",
       "      <td>0</td>\n",
       "      <td>0</td>\n",
       "      <td>0</td>\n",
       "      <td>0</td>\n",
       "    </tr>\n",
       "    <tr>\n",
       "      <th>3</th>\n",
       "      <td>4</td>\n",
       "      <td>33</td>\n",
       "      <td>No</td>\n",
       "      <td>Travel_Frequently</td>\n",
       "      <td>1392</td>\n",
       "      <td>Research &amp; Development</td>\n",
       "      <td>3</td>\n",
       "      <td>4</td>\n",
       "      <td>Life Sciences</td>\n",
       "      <td>1</td>\n",
       "      <td>...</td>\n",
       "      <td>3</td>\n",
       "      <td>80</td>\n",
       "      <td>0</td>\n",
       "      <td>8</td>\n",
       "      <td>3</td>\n",
       "      <td>3</td>\n",
       "      <td>8</td>\n",
       "      <td>7</td>\n",
       "      <td>3</td>\n",
       "      <td>0</td>\n",
       "    </tr>\n",
       "    <tr>\n",
       "      <th>4</th>\n",
       "      <td>5</td>\n",
       "      <td>27</td>\n",
       "      <td>No</td>\n",
       "      <td>Travel_Rarely</td>\n",
       "      <td>591</td>\n",
       "      <td>Research &amp; Development</td>\n",
       "      <td>2</td>\n",
       "      <td>1</td>\n",
       "      <td>Medical</td>\n",
       "      <td>1</td>\n",
       "      <td>...</td>\n",
       "      <td>4</td>\n",
       "      <td>80</td>\n",
       "      <td>1</td>\n",
       "      <td>6</td>\n",
       "      <td>3</td>\n",
       "      <td>3</td>\n",
       "      <td>2</td>\n",
       "      <td>2</td>\n",
       "      <td>2</td>\n",
       "      <td>2</td>\n",
       "    </tr>\n",
       "  </tbody>\n",
       "</table>\n",
       "<p>5 rows × 36 columns</p>\n",
       "</div>"
      ],
      "text/plain": [
       "   id  Age Attrition     BusinessTravel  DailyRate              Department  \\\n",
       "0   1   41       Yes      Travel_Rarely       1102                   Sales   \n",
       "1   2   49        No  Travel_Frequently        279  Research & Development   \n",
       "2   3   37       Yes      Travel_Rarely       1373  Research & Development   \n",
       "3   4   33        No  Travel_Frequently       1392  Research & Development   \n",
       "4   5   27        No      Travel_Rarely        591  Research & Development   \n",
       "\n",
       "   DistanceFromHome  Education EducationField  EmployeeCount  ...  \\\n",
       "0                 1          2  Life Sciences              1  ...   \n",
       "1                 8          1  Life Sciences              1  ...   \n",
       "2                 2          2          Other              1  ...   \n",
       "3                 3          4  Life Sciences              1  ...   \n",
       "4                 2          1        Medical              1  ...   \n",
       "\n",
       "   RelationshipSatisfaction  StandardHours StockOptionLevel  \\\n",
       "0                         1             80                0   \n",
       "1                         4             80                1   \n",
       "2                         2             80                0   \n",
       "3                         3             80                0   \n",
       "4                         4             80                1   \n",
       "\n",
       "   TotalWorkingYears  TrainingTimesLastYear  WorkLifeBalance YearsAtCompany  \\\n",
       "0                  8                      0                1              6   \n",
       "1                 10                      3                3             10   \n",
       "2                  7                      3                3              0   \n",
       "3                  8                      3                3              8   \n",
       "4                  6                      3                3              2   \n",
       "\n",
       "   YearsInCurrentRole YearsSinceLastPromotion  YearsWithCurrManager  \n",
       "0                   4                       0                     5  \n",
       "1                   7                       1                     7  \n",
       "2                   0                       0                     0  \n",
       "3                   7                       3                     0  \n",
       "4                   2                       2                     2  \n",
       "\n",
       "[5 rows x 36 columns]"
      ]
     },
     "execution_count": 7,
     "metadata": {},
     "output_type": "execute_result"
    }
   ],
   "source": [
    "# Short overview of what the data looks like\n",
    "df.head()"
   ]
  },
  {
   "cell_type": "code",
   "execution_count": 8,
   "id": "69b8b2eb",
   "metadata": {
    "scrolled": false
   },
   "outputs": [
    {
     "name": "stdout",
     "output_type": "stream",
     "text": [
      "<class 'pandas.core.frame.DataFrame'>\n",
      "RangeIndex: 1470 entries, 0 to 1469\n",
      "Data columns (total 36 columns):\n",
      " #   Column                    Non-Null Count  Dtype \n",
      "---  ------                    --------------  ----- \n",
      " 0   id                        1470 non-null   int64 \n",
      " 1   Age                       1470 non-null   int64 \n",
      " 2   Attrition                 1470 non-null   object\n",
      " 3   BusinessTravel            1470 non-null   object\n",
      " 4   DailyRate                 1470 non-null   int64 \n",
      " 5   Department                1470 non-null   object\n",
      " 6   DistanceFromHome          1470 non-null   int64 \n",
      " 7   Education                 1470 non-null   int64 \n",
      " 8   EducationField            1470 non-null   object\n",
      " 9   EmployeeCount             1470 non-null   int64 \n",
      " 10  EmployeeNumber            1470 non-null   int64 \n",
      " 11  EnvironmentSatisfaction   1470 non-null   int64 \n",
      " 12  Gender                    1470 non-null   object\n",
      " 13  HourlyRate                1470 non-null   int64 \n",
      " 14  JobInvolvement            1470 non-null   int64 \n",
      " 15  JobLevel                  1470 non-null   int64 \n",
      " 16  JobRole                   1470 non-null   object\n",
      " 17  JobSatisfaction           1470 non-null   int64 \n",
      " 18  MaritalStatus             1470 non-null   object\n",
      " 19  MonthlyIncome             1470 non-null   int64 \n",
      " 20  MonthlyRate               1470 non-null   int64 \n",
      " 21  NumCompaniesWorked        1470 non-null   int64 \n",
      " 22  Over18                    1470 non-null   object\n",
      " 23  OverTime                  1470 non-null   object\n",
      " 24  PercentSalaryHike         1470 non-null   int64 \n",
      " 25  PerformanceRating         1470 non-null   int64 \n",
      " 26  RelationshipSatisfaction  1470 non-null   int64 \n",
      " 27  StandardHours             1470 non-null   int64 \n",
      " 28  StockOptionLevel          1470 non-null   int64 \n",
      " 29  TotalWorkingYears         1470 non-null   int64 \n",
      " 30  TrainingTimesLastYear     1470 non-null   int64 \n",
      " 31  WorkLifeBalance           1470 non-null   int64 \n",
      " 32  YearsAtCompany            1470 non-null   int64 \n",
      " 33  YearsInCurrentRole        1470 non-null   int64 \n",
      " 34  YearsSinceLastPromotion   1470 non-null   int64 \n",
      " 35  YearsWithCurrManager      1470 non-null   int64 \n",
      "dtypes: int64(27), object(9)\n",
      "memory usage: 413.6+ KB\n"
     ]
    }
   ],
   "source": [
    "# checking the overall data info of the dataset\n",
    "df.info()"
   ]
  },
  {
   "cell_type": "code",
   "execution_count": 9,
   "id": "836397ac",
   "metadata": {},
   "outputs": [
    {
     "data": {
      "text/plain": [
       "Index(['id', 'Age', 'Attrition', 'BusinessTravel', 'DailyRate', 'Department',\n",
       "       'DistanceFromHome', 'Education', 'EducationField', 'EmployeeCount',\n",
       "       'EmployeeNumber', 'EnvironmentSatisfaction', 'Gender', 'HourlyRate',\n",
       "       'JobInvolvement', 'JobLevel', 'JobRole', 'JobSatisfaction',\n",
       "       'MaritalStatus', 'MonthlyIncome', 'MonthlyRate', 'NumCompaniesWorked',\n",
       "       'Over18', 'OverTime', 'PercentSalaryHike', 'PerformanceRating',\n",
       "       'RelationshipSatisfaction', 'StandardHours', 'StockOptionLevel',\n",
       "       'TotalWorkingYears', 'TrainingTimesLastYear', 'WorkLifeBalance',\n",
       "       'YearsAtCompany', 'YearsInCurrentRole', 'YearsSinceLastPromotion',\n",
       "       'YearsWithCurrManager'],\n",
       "      dtype='object')"
      ]
     },
     "execution_count": 9,
     "metadata": {},
     "output_type": "execute_result"
    }
   ],
   "source": [
    "# Listing the columns i'm working with\n",
    "df.columns"
   ]
  },
  {
   "cell_type": "code",
   "execution_count": 10,
   "id": "bac60491",
   "metadata": {},
   "outputs": [
    {
     "data": {
      "text/plain": [
       "(1470, 36)"
      ]
     },
     "execution_count": 10,
     "metadata": {},
     "output_type": "execute_result"
    }
   ],
   "source": [
    "# inspecting the columns\n",
    "df.shape"
   ]
  },
  {
   "cell_type": "code",
   "execution_count": 11,
   "id": "3247fab6",
   "metadata": {},
   "outputs": [
    {
     "data": {
      "text/plain": [
       "id                          0\n",
       "Age                         0\n",
       "Attrition                   0\n",
       "BusinessTravel              0\n",
       "DailyRate                   0\n",
       "Department                  0\n",
       "DistanceFromHome            0\n",
       "Education                   0\n",
       "EducationField              0\n",
       "EmployeeCount               0\n",
       "EmployeeNumber              0\n",
       "EnvironmentSatisfaction     0\n",
       "Gender                      0\n",
       "HourlyRate                  0\n",
       "JobInvolvement              0\n",
       "JobLevel                    0\n",
       "JobRole                     0\n",
       "JobSatisfaction             0\n",
       "MaritalStatus               0\n",
       "MonthlyIncome               0\n",
       "MonthlyRate                 0\n",
       "NumCompaniesWorked          0\n",
       "Over18                      0\n",
       "OverTime                    0\n",
       "PercentSalaryHike           0\n",
       "PerformanceRating           0\n",
       "RelationshipSatisfaction    0\n",
       "StandardHours               0\n",
       "StockOptionLevel            0\n",
       "TotalWorkingYears           0\n",
       "TrainingTimesLastYear       0\n",
       "WorkLifeBalance             0\n",
       "YearsAtCompany              0\n",
       "YearsInCurrentRole          0\n",
       "YearsSinceLastPromotion     0\n",
       "YearsWithCurrManager        0\n",
       "dtype: int64"
      ]
     },
     "execution_count": 11,
     "metadata": {},
     "output_type": "execute_result"
    }
   ],
   "source": [
    "df.isnull().sum()"
   ]
  },
  {
   "cell_type": "code",
   "execution_count": 12,
   "id": "882b147c",
   "metadata": {
    "scrolled": false
   },
   "outputs": [
    {
     "data": {
      "text/html": [
       "<div>\n",
       "<style scoped>\n",
       "    .dataframe tbody tr th:only-of-type {\n",
       "        vertical-align: middle;\n",
       "    }\n",
       "\n",
       "    .dataframe tbody tr th {\n",
       "        vertical-align: top;\n",
       "    }\n",
       "\n",
       "    .dataframe thead th {\n",
       "        text-align: right;\n",
       "    }\n",
       "</style>\n",
       "<table border=\"1\" class=\"dataframe\">\n",
       "  <thead>\n",
       "    <tr style=\"text-align: right;\">\n",
       "      <th></th>\n",
       "      <th>id</th>\n",
       "      <th>Age</th>\n",
       "      <th>DailyRate</th>\n",
       "      <th>DistanceFromHome</th>\n",
       "      <th>Education</th>\n",
       "      <th>EmployeeCount</th>\n",
       "      <th>EmployeeNumber</th>\n",
       "      <th>EnvironmentSatisfaction</th>\n",
       "      <th>HourlyRate</th>\n",
       "      <th>JobInvolvement</th>\n",
       "      <th>...</th>\n",
       "      <th>RelationshipSatisfaction</th>\n",
       "      <th>StandardHours</th>\n",
       "      <th>StockOptionLevel</th>\n",
       "      <th>TotalWorkingYears</th>\n",
       "      <th>TrainingTimesLastYear</th>\n",
       "      <th>WorkLifeBalance</th>\n",
       "      <th>YearsAtCompany</th>\n",
       "      <th>YearsInCurrentRole</th>\n",
       "      <th>YearsSinceLastPromotion</th>\n",
       "      <th>YearsWithCurrManager</th>\n",
       "    </tr>\n",
       "  </thead>\n",
       "  <tbody>\n",
       "    <tr>\n",
       "      <th>count</th>\n",
       "      <td>1470.000000</td>\n",
       "      <td>1470.000000</td>\n",
       "      <td>1470.000000</td>\n",
       "      <td>1470.000000</td>\n",
       "      <td>1470.000000</td>\n",
       "      <td>1470.0</td>\n",
       "      <td>1470.000000</td>\n",
       "      <td>1470.000000</td>\n",
       "      <td>1470.000000</td>\n",
       "      <td>1470.000000</td>\n",
       "      <td>...</td>\n",
       "      <td>1470.000000</td>\n",
       "      <td>1470.0</td>\n",
       "      <td>1470.000000</td>\n",
       "      <td>1470.000000</td>\n",
       "      <td>1470.000000</td>\n",
       "      <td>1470.000000</td>\n",
       "      <td>1470.000000</td>\n",
       "      <td>1470.000000</td>\n",
       "      <td>1470.000000</td>\n",
       "      <td>1470.000000</td>\n",
       "    </tr>\n",
       "    <tr>\n",
       "      <th>mean</th>\n",
       "      <td>735.500000</td>\n",
       "      <td>36.923810</td>\n",
       "      <td>802.485714</td>\n",
       "      <td>9.192517</td>\n",
       "      <td>2.912925</td>\n",
       "      <td>1.0</td>\n",
       "      <td>1024.865306</td>\n",
       "      <td>2.721769</td>\n",
       "      <td>65.891156</td>\n",
       "      <td>2.729932</td>\n",
       "      <td>...</td>\n",
       "      <td>2.712245</td>\n",
       "      <td>80.0</td>\n",
       "      <td>0.793878</td>\n",
       "      <td>11.279592</td>\n",
       "      <td>2.799320</td>\n",
       "      <td>2.761224</td>\n",
       "      <td>7.008163</td>\n",
       "      <td>4.229252</td>\n",
       "      <td>2.187755</td>\n",
       "      <td>4.123129</td>\n",
       "    </tr>\n",
       "    <tr>\n",
       "      <th>std</th>\n",
       "      <td>424.496761</td>\n",
       "      <td>9.135373</td>\n",
       "      <td>403.509100</td>\n",
       "      <td>8.106864</td>\n",
       "      <td>1.024165</td>\n",
       "      <td>0.0</td>\n",
       "      <td>602.024335</td>\n",
       "      <td>1.093082</td>\n",
       "      <td>20.329428</td>\n",
       "      <td>0.711561</td>\n",
       "      <td>...</td>\n",
       "      <td>1.081209</td>\n",
       "      <td>0.0</td>\n",
       "      <td>0.852077</td>\n",
       "      <td>7.780782</td>\n",
       "      <td>1.289271</td>\n",
       "      <td>0.706476</td>\n",
       "      <td>6.126525</td>\n",
       "      <td>3.623137</td>\n",
       "      <td>3.222430</td>\n",
       "      <td>3.568136</td>\n",
       "    </tr>\n",
       "    <tr>\n",
       "      <th>min</th>\n",
       "      <td>1.000000</td>\n",
       "      <td>18.000000</td>\n",
       "      <td>102.000000</td>\n",
       "      <td>1.000000</td>\n",
       "      <td>1.000000</td>\n",
       "      <td>1.0</td>\n",
       "      <td>1.000000</td>\n",
       "      <td>1.000000</td>\n",
       "      <td>30.000000</td>\n",
       "      <td>1.000000</td>\n",
       "      <td>...</td>\n",
       "      <td>1.000000</td>\n",
       "      <td>80.0</td>\n",
       "      <td>0.000000</td>\n",
       "      <td>0.000000</td>\n",
       "      <td>0.000000</td>\n",
       "      <td>1.000000</td>\n",
       "      <td>0.000000</td>\n",
       "      <td>0.000000</td>\n",
       "      <td>0.000000</td>\n",
       "      <td>0.000000</td>\n",
       "    </tr>\n",
       "    <tr>\n",
       "      <th>25%</th>\n",
       "      <td>368.250000</td>\n",
       "      <td>30.000000</td>\n",
       "      <td>465.000000</td>\n",
       "      <td>2.000000</td>\n",
       "      <td>2.000000</td>\n",
       "      <td>1.0</td>\n",
       "      <td>491.250000</td>\n",
       "      <td>2.000000</td>\n",
       "      <td>48.000000</td>\n",
       "      <td>2.000000</td>\n",
       "      <td>...</td>\n",
       "      <td>2.000000</td>\n",
       "      <td>80.0</td>\n",
       "      <td>0.000000</td>\n",
       "      <td>6.000000</td>\n",
       "      <td>2.000000</td>\n",
       "      <td>2.000000</td>\n",
       "      <td>3.000000</td>\n",
       "      <td>2.000000</td>\n",
       "      <td>0.000000</td>\n",
       "      <td>2.000000</td>\n",
       "    </tr>\n",
       "    <tr>\n",
       "      <th>50%</th>\n",
       "      <td>735.500000</td>\n",
       "      <td>36.000000</td>\n",
       "      <td>802.000000</td>\n",
       "      <td>7.000000</td>\n",
       "      <td>3.000000</td>\n",
       "      <td>1.0</td>\n",
       "      <td>1020.500000</td>\n",
       "      <td>3.000000</td>\n",
       "      <td>66.000000</td>\n",
       "      <td>3.000000</td>\n",
       "      <td>...</td>\n",
       "      <td>3.000000</td>\n",
       "      <td>80.0</td>\n",
       "      <td>1.000000</td>\n",
       "      <td>10.000000</td>\n",
       "      <td>3.000000</td>\n",
       "      <td>3.000000</td>\n",
       "      <td>5.000000</td>\n",
       "      <td>3.000000</td>\n",
       "      <td>1.000000</td>\n",
       "      <td>3.000000</td>\n",
       "    </tr>\n",
       "    <tr>\n",
       "      <th>75%</th>\n",
       "      <td>1102.750000</td>\n",
       "      <td>43.000000</td>\n",
       "      <td>1157.000000</td>\n",
       "      <td>14.000000</td>\n",
       "      <td>4.000000</td>\n",
       "      <td>1.0</td>\n",
       "      <td>1555.750000</td>\n",
       "      <td>4.000000</td>\n",
       "      <td>83.750000</td>\n",
       "      <td>3.000000</td>\n",
       "      <td>...</td>\n",
       "      <td>4.000000</td>\n",
       "      <td>80.0</td>\n",
       "      <td>1.000000</td>\n",
       "      <td>15.000000</td>\n",
       "      <td>3.000000</td>\n",
       "      <td>3.000000</td>\n",
       "      <td>9.000000</td>\n",
       "      <td>7.000000</td>\n",
       "      <td>3.000000</td>\n",
       "      <td>7.000000</td>\n",
       "    </tr>\n",
       "    <tr>\n",
       "      <th>max</th>\n",
       "      <td>1470.000000</td>\n",
       "      <td>60.000000</td>\n",
       "      <td>1499.000000</td>\n",
       "      <td>29.000000</td>\n",
       "      <td>5.000000</td>\n",
       "      <td>1.0</td>\n",
       "      <td>2068.000000</td>\n",
       "      <td>4.000000</td>\n",
       "      <td>100.000000</td>\n",
       "      <td>4.000000</td>\n",
       "      <td>...</td>\n",
       "      <td>4.000000</td>\n",
       "      <td>80.0</td>\n",
       "      <td>3.000000</td>\n",
       "      <td>40.000000</td>\n",
       "      <td>6.000000</td>\n",
       "      <td>4.000000</td>\n",
       "      <td>40.000000</td>\n",
       "      <td>18.000000</td>\n",
       "      <td>15.000000</td>\n",
       "      <td>17.000000</td>\n",
       "    </tr>\n",
       "  </tbody>\n",
       "</table>\n",
       "<p>8 rows × 27 columns</p>\n",
       "</div>"
      ],
      "text/plain": [
       "                id          Age    DailyRate  DistanceFromHome    Education  \\\n",
       "count  1470.000000  1470.000000  1470.000000       1470.000000  1470.000000   \n",
       "mean    735.500000    36.923810   802.485714          9.192517     2.912925   \n",
       "std     424.496761     9.135373   403.509100          8.106864     1.024165   \n",
       "min       1.000000    18.000000   102.000000          1.000000     1.000000   \n",
       "25%     368.250000    30.000000   465.000000          2.000000     2.000000   \n",
       "50%     735.500000    36.000000   802.000000          7.000000     3.000000   \n",
       "75%    1102.750000    43.000000  1157.000000         14.000000     4.000000   \n",
       "max    1470.000000    60.000000  1499.000000         29.000000     5.000000   \n",
       "\n",
       "       EmployeeCount  EmployeeNumber  EnvironmentSatisfaction   HourlyRate  \\\n",
       "count         1470.0     1470.000000              1470.000000  1470.000000   \n",
       "mean             1.0     1024.865306                 2.721769    65.891156   \n",
       "std              0.0      602.024335                 1.093082    20.329428   \n",
       "min              1.0        1.000000                 1.000000    30.000000   \n",
       "25%              1.0      491.250000                 2.000000    48.000000   \n",
       "50%              1.0     1020.500000                 3.000000    66.000000   \n",
       "75%              1.0     1555.750000                 4.000000    83.750000   \n",
       "max              1.0     2068.000000                 4.000000   100.000000   \n",
       "\n",
       "       JobInvolvement  ...  RelationshipSatisfaction  StandardHours  \\\n",
       "count     1470.000000  ...               1470.000000         1470.0   \n",
       "mean         2.729932  ...                  2.712245           80.0   \n",
       "std          0.711561  ...                  1.081209            0.0   \n",
       "min          1.000000  ...                  1.000000           80.0   \n",
       "25%          2.000000  ...                  2.000000           80.0   \n",
       "50%          3.000000  ...                  3.000000           80.0   \n",
       "75%          3.000000  ...                  4.000000           80.0   \n",
       "max          4.000000  ...                  4.000000           80.0   \n",
       "\n",
       "       StockOptionLevel  TotalWorkingYears  TrainingTimesLastYear  \\\n",
       "count       1470.000000        1470.000000            1470.000000   \n",
       "mean           0.793878          11.279592               2.799320   \n",
       "std            0.852077           7.780782               1.289271   \n",
       "min            0.000000           0.000000               0.000000   \n",
       "25%            0.000000           6.000000               2.000000   \n",
       "50%            1.000000          10.000000               3.000000   \n",
       "75%            1.000000          15.000000               3.000000   \n",
       "max            3.000000          40.000000               6.000000   \n",
       "\n",
       "       WorkLifeBalance  YearsAtCompany  YearsInCurrentRole  \\\n",
       "count      1470.000000     1470.000000         1470.000000   \n",
       "mean          2.761224        7.008163            4.229252   \n",
       "std           0.706476        6.126525            3.623137   \n",
       "min           1.000000        0.000000            0.000000   \n",
       "25%           2.000000        3.000000            2.000000   \n",
       "50%           3.000000        5.000000            3.000000   \n",
       "75%           3.000000        9.000000            7.000000   \n",
       "max           4.000000       40.000000           18.000000   \n",
       "\n",
       "       YearsSinceLastPromotion  YearsWithCurrManager  \n",
       "count              1470.000000           1470.000000  \n",
       "mean                  2.187755              4.123129  \n",
       "std                   3.222430              3.568136  \n",
       "min                   0.000000              0.000000  \n",
       "25%                   0.000000              2.000000  \n",
       "50%                   1.000000              3.000000  \n",
       "75%                   3.000000              7.000000  \n",
       "max                  15.000000             17.000000  \n",
       "\n",
       "[8 rows x 27 columns]"
      ]
     },
     "execution_count": 12,
     "metadata": {},
     "output_type": "execute_result"
    }
   ],
   "source": [
    "df.describe()"
   ]
  },
  {
   "cell_type": "markdown",
   "id": "6db077c9",
   "metadata": {},
   "source": [
    "#### Judging by the descriptive statistics of the dataframe:\n",
    "* we can tell the total employee count is 1470, \n",
    "* minimum age of an employee is 18 and highest is 60, the mean age is 37\n",
    "* the mean daily rate income is ```$802```, minimum is ```$102``` and maximum is ```$1499```"
   ]
  },
  {
   "cell_type": "code",
   "execution_count": 13,
   "id": "ead238b1",
   "metadata": {},
   "outputs": [
    {
     "data": {
      "text/plain": [
       "<AxesSubplot:xlabel='Education', ylabel='Density'>"
      ]
     },
     "execution_count": 13,
     "metadata": {},
     "output_type": "execute_result"
    },
    {
     "data": {
      "image/png": "[encoded data removed]",
      "text/plain": [
       "<Figure size 1080x360 with 3 Axes>"
      ]
     },
     "metadata": {},
     "output_type": "display_data"
    }
   ],
   "source": [
    "# Create a figure with three subplots\n",
    "fig, ax = plt.subplots(1, 3, figsize=(15, 5))\n",
    "\n",
    "# Create the first plot\n",
    "sns.kdeplot(df['DailyRate'], shade=True, color='#264653', ax=ax[0])\n",
    "\n",
    "# Create the second plot\n",
    "sns.kdeplot(df['Age'], shade=True, color='#264653', ax=ax[1])\n",
    "\n",
    "# Create the third plot\n",
    "sns.kdeplot(df['Education'], shade=True, color='#264653', ax=ax[2])\n"
   ]
  },
  {
   "cell_type": "markdown",
   "id": "15d25907",
   "metadata": {},
   "source": [
    "```The age, DailyRate and Educational distribution of employees```"
   ]
  },
  {
   "cell_type": "code",
   "execution_count": 14,
   "id": "c0727283",
   "metadata": {},
   "outputs": [],
   "source": [
    "#Mapping the attrition 1 - yes and 0 - no in the new column called \"Attrition_ind\"\n",
    "\n",
    "df[\"Attrition_ind\"] = np.where(df[\"Attrition\"] == \"Yes\",1,0)"
   ]
  },
  {
   "cell_type": "code",
   "execution_count": 15,
   "id": "dcd77c9b",
   "metadata": {},
   "outputs": [
    {
     "data": {
      "text/html": [
       "<div>\n",
       "<style scoped>\n",
       "    .dataframe tbody tr th:only-of-type {\n",
       "        vertical-align: middle;\n",
       "    }\n",
       "\n",
       "    .dataframe tbody tr th {\n",
       "        vertical-align: top;\n",
       "    }\n",
       "\n",
       "    .dataframe thead th {\n",
       "        text-align: right;\n",
       "    }\n",
       "</style>\n",
       "<table border=\"1\" class=\"dataframe\">\n",
       "  <thead>\n",
       "    <tr style=\"text-align: right;\">\n",
       "      <th></th>\n",
       "      <th>id</th>\n",
       "      <th>Age</th>\n",
       "      <th>Attrition</th>\n",
       "      <th>BusinessTravel</th>\n",
       "      <th>DailyRate</th>\n",
       "      <th>Department</th>\n",
       "      <th>DistanceFromHome</th>\n",
       "      <th>Education</th>\n",
       "      <th>EducationField</th>\n",
       "      <th>EmployeeCount</th>\n",
       "      <th>...</th>\n",
       "      <th>StandardHours</th>\n",
       "      <th>StockOptionLevel</th>\n",
       "      <th>TotalWorkingYears</th>\n",
       "      <th>TrainingTimesLastYear</th>\n",
       "      <th>WorkLifeBalance</th>\n",
       "      <th>YearsAtCompany</th>\n",
       "      <th>YearsInCurrentRole</th>\n",
       "      <th>YearsSinceLastPromotion</th>\n",
       "      <th>YearsWithCurrManager</th>\n",
       "      <th>Attrition_ind</th>\n",
       "    </tr>\n",
       "  </thead>\n",
       "  <tbody>\n",
       "    <tr>\n",
       "      <th>0</th>\n",
       "      <td>1</td>\n",
       "      <td>41</td>\n",
       "      <td>Yes</td>\n",
       "      <td>Travel_Rarely</td>\n",
       "      <td>1102</td>\n",
       "      <td>Sales</td>\n",
       "      <td>1</td>\n",
       "      <td>2</td>\n",
       "      <td>Life Sciences</td>\n",
       "      <td>1</td>\n",
       "      <td>...</td>\n",
       "      <td>80</td>\n",
       "      <td>0</td>\n",
       "      <td>8</td>\n",
       "      <td>0</td>\n",
       "      <td>1</td>\n",
       "      <td>6</td>\n",
       "      <td>4</td>\n",
       "      <td>0</td>\n",
       "      <td>5</td>\n",
       "      <td>1</td>\n",
       "    </tr>\n",
       "    <tr>\n",
       "      <th>1</th>\n",
       "      <td>2</td>\n",
       "      <td>49</td>\n",
       "      <td>No</td>\n",
       "      <td>Travel_Frequently</td>\n",
       "      <td>279</td>\n",
       "      <td>Research &amp; Development</td>\n",
       "      <td>8</td>\n",
       "      <td>1</td>\n",
       "      <td>Life Sciences</td>\n",
       "      <td>1</td>\n",
       "      <td>...</td>\n",
       "      <td>80</td>\n",
       "      <td>1</td>\n",
       "      <td>10</td>\n",
       "      <td>3</td>\n",
       "      <td>3</td>\n",
       "      <td>10</td>\n",
       "      <td>7</td>\n",
       "      <td>1</td>\n",
       "      <td>7</td>\n",
       "      <td>0</td>\n",
       "    </tr>\n",
       "    <tr>\n",
       "      <th>2</th>\n",
       "      <td>3</td>\n",
       "      <td>37</td>\n",
       "      <td>Yes</td>\n",
       "      <td>Travel_Rarely</td>\n",
       "      <td>1373</td>\n",
       "      <td>Research &amp; Development</td>\n",
       "      <td>2</td>\n",
       "      <td>2</td>\n",
       "      <td>Other</td>\n",
       "      <td>1</td>\n",
       "      <td>...</td>\n",
       "      <td>80</td>\n",
       "      <td>0</td>\n",
       "      <td>7</td>\n",
       "      <td>3</td>\n",
       "      <td>3</td>\n",
       "      <td>0</td>\n",
       "      <td>0</td>\n",
       "      <td>0</td>\n",
       "      <td>0</td>\n",
       "      <td>1</td>\n",
       "    </tr>\n",
       "    <tr>\n",
       "      <th>3</th>\n",
       "      <td>4</td>\n",
       "      <td>33</td>\n",
       "      <td>No</td>\n",
       "      <td>Travel_Frequently</td>\n",
       "      <td>1392</td>\n",
       "      <td>Research &amp; Development</td>\n",
       "      <td>3</td>\n",
       "      <td>4</td>\n",
       "      <td>Life Sciences</td>\n",
       "      <td>1</td>\n",
       "      <td>...</td>\n",
       "      <td>80</td>\n",
       "      <td>0</td>\n",
       "      <td>8</td>\n",
       "      <td>3</td>\n",
       "      <td>3</td>\n",
       "      <td>8</td>\n",
       "      <td>7</td>\n",
       "      <td>3</td>\n",
       "      <td>0</td>\n",
       "      <td>0</td>\n",
       "    </tr>\n",
       "    <tr>\n",
       "      <th>4</th>\n",
       "      <td>5</td>\n",
       "      <td>27</td>\n",
       "      <td>No</td>\n",
       "      <td>Travel_Rarely</td>\n",
       "      <td>591</td>\n",
       "      <td>Research &amp; Development</td>\n",
       "      <td>2</td>\n",
       "      <td>1</td>\n",
       "      <td>Medical</td>\n",
       "      <td>1</td>\n",
       "      <td>...</td>\n",
       "      <td>80</td>\n",
       "      <td>1</td>\n",
       "      <td>6</td>\n",
       "      <td>3</td>\n",
       "      <td>3</td>\n",
       "      <td>2</td>\n",
       "      <td>2</td>\n",
       "      <td>2</td>\n",
       "      <td>2</td>\n",
       "      <td>0</td>\n",
       "    </tr>\n",
       "  </tbody>\n",
       "</table>\n",
       "<p>5 rows × 37 columns</p>\n",
       "</div>"
      ],
      "text/plain": [
       "   id  Age Attrition     BusinessTravel  DailyRate              Department  \\\n",
       "0   1   41       Yes      Travel_Rarely       1102                   Sales   \n",
       "1   2   49        No  Travel_Frequently        279  Research & Development   \n",
       "2   3   37       Yes      Travel_Rarely       1373  Research & Development   \n",
       "3   4   33        No  Travel_Frequently       1392  Research & Development   \n",
       "4   5   27        No      Travel_Rarely        591  Research & Development   \n",
       "\n",
       "   DistanceFromHome  Education EducationField  EmployeeCount  ...  \\\n",
       "0                 1          2  Life Sciences              1  ...   \n",
       "1                 8          1  Life Sciences              1  ...   \n",
       "2                 2          2          Other              1  ...   \n",
       "3                 3          4  Life Sciences              1  ...   \n",
       "4                 2          1        Medical              1  ...   \n",
       "\n",
       "   StandardHours  StockOptionLevel TotalWorkingYears  TrainingTimesLastYear  \\\n",
       "0             80                 0                 8                      0   \n",
       "1             80                 1                10                      3   \n",
       "2             80                 0                 7                      3   \n",
       "3             80                 0                 8                      3   \n",
       "4             80                 1                 6                      3   \n",
       "\n",
       "   WorkLifeBalance  YearsAtCompany YearsInCurrentRole  \\\n",
       "0                1               6                  4   \n",
       "1                3              10                  7   \n",
       "2                3               0                  0   \n",
       "3                3               8                  7   \n",
       "4                3               2                  2   \n",
       "\n",
       "   YearsSinceLastPromotion YearsWithCurrManager  Attrition_ind  \n",
       "0                        0                    5              1  \n",
       "1                        1                    7              0  \n",
       "2                        0                    0              1  \n",
       "3                        3                    0              0  \n",
       "4                        2                    2              0  \n",
       "\n",
       "[5 rows x 37 columns]"
      ]
     },
     "execution_count": 15,
     "metadata": {},
     "output_type": "execute_result"
    }
   ],
   "source": [
    "df.head()"
   ]
  },
  {
   "cell_type": "code",
   "execution_count": 16,
   "id": "9952ead0",
   "metadata": {
    "scrolled": false
   },
   "outputs": [
    {
     "name": "stdout",
     "output_type": "stream",
     "text": [
      "<class 'pandas.core.frame.DataFrame'>\n",
      "RangeIndex: 1470 entries, 0 to 1469\n",
      "Data columns (total 37 columns):\n",
      " #   Column                    Non-Null Count  Dtype \n",
      "---  ------                    --------------  ----- \n",
      " 0   id                        1470 non-null   int64 \n",
      " 1   Age                       1470 non-null   int64 \n",
      " 2   Attrition                 1470 non-null   object\n",
      " 3   BusinessTravel            1470 non-null   object\n",
      " 4   DailyRate                 1470 non-null   int64 \n",
      " 5   Department                1470 non-null   object\n",
      " 6   DistanceFromHome          1470 non-null   int64 \n",
      " 7   Education                 1470 non-null   int64 \n",
      " 8   EducationField            1470 non-null   object\n",
      " 9   EmployeeCount             1470 non-null   int64 \n",
      " 10  EmployeeNumber            1470 non-null   int64 \n",
      " 11  EnvironmentSatisfaction   1470 non-null   int64 \n",
      " 12  Gender                    1470 non-null   object\n",
      " 13  HourlyRate                1470 non-null   int64 \n",
      " 14  JobInvolvement            1470 non-null   int64 \n",
      " 15  JobLevel                  1470 non-null   int64 \n",
      " 16  JobRole                   1470 non-null   object\n",
      " 17  JobSatisfaction           1470 non-null   int64 \n",
      " 18  MaritalStatus             1470 non-null   object\n",
      " 19  MonthlyIncome             1470 non-null   int64 \n",
      " 20  MonthlyRate               1470 non-null   int64 \n",
      " 21  NumCompaniesWorked        1470 non-null   int64 \n",
      " 22  Over18                    1470 non-null   object\n",
      " 23  OverTime                  1470 non-null   object\n",
      " 24  PercentSalaryHike         1470 non-null   int64 \n",
      " 25  PerformanceRating         1470 non-null   int64 \n",
      " 26  RelationshipSatisfaction  1470 non-null   int64 \n",
      " 27  StandardHours             1470 non-null   int64 \n",
      " 28  StockOptionLevel          1470 non-null   int64 \n",
      " 29  TotalWorkingYears         1470 non-null   int64 \n",
      " 30  TrainingTimesLastYear     1470 non-null   int64 \n",
      " 31  WorkLifeBalance           1470 non-null   int64 \n",
      " 32  YearsAtCompany            1470 non-null   int64 \n",
      " 33  YearsInCurrentRole        1470 non-null   int64 \n",
      " 34  YearsSinceLastPromotion   1470 non-null   int64 \n",
      " 35  YearsWithCurrManager      1470 non-null   int64 \n",
      " 36  Attrition_ind             1470 non-null   int32 \n",
      "dtypes: int32(1), int64(27), object(9)\n",
      "memory usage: 419.3+ KB\n"
     ]
    }
   ],
   "source": [
    "df.info()"
   ]
  },
  {
   "cell_type": "markdown",
   "id": "36b8ec00",
   "metadata": {},
   "source": [
    "<a id='What do you think are the 3 factors behind employee attrition?'></a>\n",
    "## What do you think are the 3 factors behind employee attrition?"
   ]
  },
  {
   "cell_type": "markdown",
   "id": "a057bb11",
   "metadata": {},
   "source": [
    "#### 1. Monthly Income"
   ]
  },
  {
   "cell_type": "code",
   "execution_count": 17,
   "id": "bd618e1f",
   "metadata": {
    "scrolled": false
   },
   "outputs": [
    {
     "data": {
      "text/plain": [
       "<seaborn.axisgrid.FacetGrid at 0x13d1db9f460>"
      ]
     },
     "execution_count": 17,
     "metadata": {},
     "output_type": "execute_result"
    },
    {
     "data": {
      "image/png": "[encoded data removed]",
      "text/plain": [
       "<Figure size 360x360 with 1 Axes>"
      ]
     },
     "metadata": {},
     "output_type": "display_data"
    }
   ],
   "source": [
    "sns.factorplot(data=df,kind='bar',x='Attrition',y='MonthlyIncome')"
   ]
  },
  {
   "cell_type": "markdown",
   "id": "1b244424",
   "metadata": {},
   "source": [
    "> ```Employees in the 'No' class tend to have higher average incomes, which is expected as those earning well are less likely to want to leave the organization. On the other hand, employees who are earning less are more likely to consider changing companies.```"
   ]
  },
  {
   "cell_type": "markdown",
   "id": "6da1c165",
   "metadata": {},
   "source": [
    "#### 2.  Age"
   ]
  },
  {
   "cell_type": "code",
   "execution_count": 18,
   "id": "0db9abee",
   "metadata": {
    "scrolled": false
   },
   "outputs": [
    {
     "data": {
      "text/plain": [
       "<seaborn.axisgrid.FacetGrid at 0x13d1e3a4e80>"
      ]
     },
     "execution_count": 18,
     "metadata": {},
     "output_type": "execute_result"
    },
    {
     "data": {
      "image/png": "[encoded data removed]",
      "text/plain": [
       "<Figure size 360x360 with 1 Axes>"
      ]
     },
     "metadata": {},
     "output_type": "display_data"
    }
   ],
   "source": [
    "sns.factorplot(data=df,y='Age',x='Attrition',size=5,aspect=1,kind='box')"
   ]
  },
  {
   "cell_type": "markdown",
   "id": "133389af",
   "metadata": {},
   "source": [
    "> ```The above boxplot shows that it is worth noting that the median and maximum ages of people with 'No' attrition are higher than those in the 'Yes' category. This suggests that people with higher ages are less likely to leave the organization, which makes sense as they may be more settled in their roles.```"
   ]
  },
  {
   "cell_type": "markdown",
   "id": "0b395221",
   "metadata": {},
   "source": [
    "#### 3. Total Working years"
   ]
  },
  {
   "cell_type": "code",
   "execution_count": 19,
   "id": "ab7c5079",
   "metadata": {
    "scrolled": true
   },
   "outputs": [
    {
     "data": {
      "text/plain": [
       "<seaborn.axisgrid.FacetGrid at 0x13d1e39d220>"
      ]
     },
     "execution_count": 19,
     "metadata": {},
     "output_type": "execute_result"
    },
    {
     "data": {
      "image/png": "[encoded data removed]",
      "text/plain": [
       "<Figure size 360x360 with 1 Axes>"
      ]
     },
     "metadata": {},
     "output_type": "display_data"
    }
   ],
   "source": [
    "sns.factorplot(data=df,y='TotalWorkingYears',x='Attrition',size=5,aspect=1,kind='box')"
   ]
  },
  {
   "cell_type": "markdown",
   "id": "8fcbc79c",
   "metadata": {},
   "source": [
    "> ```Younger employees who have less experience may be more likely to leave their current company in pursuit of higher pay, even if they have received a salary increase. This could be because they are looking for opportunities to advance their careers and increase their earning potential.```"
   ]
  },
  {
   "cell_type": "markdown",
   "id": "13eb8eb4",
   "metadata": {},
   "source": [
    "<a id='What is the relationship between Education and Monthly Income?'></a>\n",
    "## What is the relationship between Education and Monthly Income?"
   ]
  },
  {
   "cell_type": "code",
   "execution_count": 20,
   "id": "a710b8d1",
   "metadata": {},
   "outputs": [
    {
     "data": {
      "text/plain": [
       "<AxesSubplot:xlabel='Education', ylabel='MonthlyIncome'>"
      ]
     },
     "execution_count": 20,
     "metadata": {},
     "output_type": "execute_result"
    },
    {
     "data": {
      "image/png": "[encoded data removed]",
      "text/plain": [
       "<Figure size 432x288 with 1 Axes>"
      ]
     },
     "metadata": {},
     "output_type": "display_data"
    }
   ],
   "source": [
    "sns.boxplot(x='Education', y='MonthlyIncome', data=df)"
   ]
  },
  {
   "cell_type": "markdown",
   "id": "e32599cb",
   "metadata": {},
   "source": [
    "```Here shows the higher the year spent on education the higher the pay```"
   ]
  },
  {
   "cell_type": "markdown",
   "id": "92105c28",
   "metadata": {},
   "source": [
    "<a id='#What is the effect of age on attrition?'></a>\n",
    "## What is the effect of age on attrition?"
   ]
  },
  {
   "cell_type": "code",
   "execution_count": 21,
   "id": "79266f3a",
   "metadata": {
    "scrolled": true
   },
   "outputs": [
    {
     "data": {
      "text/plain": [
       "<seaborn.axisgrid.FacetGrid at 0x13d1e75a1c0>"
      ]
     },
     "execution_count": 21,
     "metadata": {},
     "output_type": "execute_result"
    },
    {
     "data": {
      "image/png": "[encoded data removed]",
      "text/plain": [
       "<Figure size 360x360 with 1 Axes>"
      ]
     },
     "metadata": {},
     "output_type": "display_data"
    }
   ],
   "source": [
    "sns.factorplot(data=df,y='Age',x='Attrition',size=5,aspect=1,kind='box')"
   ]
  },
  {
   "cell_type": "markdown",
   "id": "8f82819a",
   "metadata": {},
   "source": [
    "**```Most of the employees who left the company were younger than 40 years old, as shown by the Age Comparison boxplot. On the other hand, the majority of employees who did not leave the company were between the ages of 32 and 40 years old.```**"
   ]
  },
  {
   "cell_type": "markdown",
   "id": "20b56dad",
   "metadata": {},
   "source": [
    "## Is Income the main factor towards employee attrition??"
   ]
  },
  {
   "cell_type": "code",
   "execution_count": 22,
   "id": "8db9954a",
   "metadata": {
    "scrolled": false
   },
   "outputs": [
    {
     "data": {
      "image/png": "[encoded data removed]",
      "text/plain": [
       "<Figure size 1080x360 with 3 Axes>"
      ]
     },
     "metadata": {},
     "output_type": "display_data"
    },
    {
     "data": {
      "image/png": "[encoded data removed]",
      "text/plain": [
       "<Figure size 360x360 with 1 Axes>"
      ]
     },
     "metadata": {},
     "output_type": "display_data"
    },
    {
     "data": {
      "image/png": "[encoded data removed]",
      "text/plain": [
       "<Figure size 360x360 with 1 Axes>"
      ]
     },
     "metadata": {},
     "output_type": "display_data"
    },
    {
     "data": {
      "image/png": "[encoded data removed]",
      "text/plain": [
       "<Figure size 360x360 with 1 Axes>"
      ]
     },
     "metadata": {},
     "output_type": "display_data"
    }
   ],
   "source": [
    "# Create a figure with three subplots\n",
    "fig, ax = plt.subplots(1, 3, figsize=(15, 5))\n",
    "\n",
    "# Create the first plot\n",
    "DRate = sns.factorplot(data=df, y='DailyRate', x='Attrition', size=5, aspect=1, kind='box', ax=ax[0])\n",
    "\n",
    "# Create the second plot\n",
    "MIncome = sns.factorplot(data=df, y='MonthlyIncome', x='Attrition', size=5, aspect=1, kind='box', ax=ax[1])\n",
    "\n",
    "# Create the third plot\n",
    "Hrate = sns.factorplot(data=df, y='HourlyRate', x='Attrition', size=5, aspect=1, kind='box', ax=ax[2])\n",
    "\n",
    "plt.tight_layout()\n",
    "plt.show()"
   ]
  },
  {
   "cell_type": "markdown",
   "id": "723eff2c",
   "metadata": {},
   "source": [
    "**```From the above analysis it is safe to say Employees with lower daily pay rates are more likely to leave the company than those with higher pay rates. This trend is also seen with monthly income. As for Hourly rates there is no significant difference.```**"
   ]
  },
  {
   "cell_type": "markdown",
   "id": "d0230d5d",
   "metadata": {},
   "source": [
    "<a id='How does work-life balance impact the overall attrition rate'></a>\n",
    "## How does work-life balance impact the overall attrition rate"
   ]
  },
  {
   "cell_type": "markdown",
   "id": "0083ecf9",
   "metadata": {},
   "source": [
    "### Worklife balance "
   ]
  },
  {
   "cell_type": "code",
   "execution_count": 23,
   "id": "c767865f",
   "metadata": {},
   "outputs": [
    {
     "data": {
      "text/html": [
       "<div>\n",
       "<style scoped>\n",
       "    .dataframe tbody tr th:only-of-type {\n",
       "        vertical-align: middle;\n",
       "    }\n",
       "\n",
       "    .dataframe tbody tr th {\n",
       "        vertical-align: top;\n",
       "    }\n",
       "\n",
       "    .dataframe thead th {\n",
       "        text-align: right;\n",
       "    }\n",
       "</style>\n",
       "<table border=\"1\" class=\"dataframe\">\n",
       "  <thead>\n",
       "    <tr style=\"text-align: right;\">\n",
       "      <th>Attrition</th>\n",
       "      <th>No</th>\n",
       "      <th>Yes</th>\n",
       "    </tr>\n",
       "    <tr>\n",
       "      <th>WorkLifeBalance</th>\n",
       "      <th></th>\n",
       "      <th></th>\n",
       "    </tr>\n",
       "  </thead>\n",
       "  <tbody>\n",
       "    <tr>\n",
       "      <th>1</th>\n",
       "      <td>0.687500</td>\n",
       "      <td>0.312500</td>\n",
       "    </tr>\n",
       "    <tr>\n",
       "      <th>2</th>\n",
       "      <td>0.831395</td>\n",
       "      <td>0.168605</td>\n",
       "    </tr>\n",
       "    <tr>\n",
       "      <th>3</th>\n",
       "      <td>0.857783</td>\n",
       "      <td>0.142217</td>\n",
       "    </tr>\n",
       "    <tr>\n",
       "      <th>4</th>\n",
       "      <td>0.823529</td>\n",
       "      <td>0.176471</td>\n",
       "    </tr>\n",
       "    <tr>\n",
       "      <th>All</th>\n",
       "      <td>0.838776</td>\n",
       "      <td>0.161224</td>\n",
       "    </tr>\n",
       "  </tbody>\n",
       "</table>\n",
       "</div>"
      ],
      "text/plain": [
       "Attrition              No       Yes\n",
       "WorkLifeBalance                    \n",
       "1                0.687500  0.312500\n",
       "2                0.831395  0.168605\n",
       "3                0.857783  0.142217\n",
       "4                0.823529  0.176471\n",
       "All              0.838776  0.161224"
      ]
     },
     "execution_count": 23,
     "metadata": {},
     "output_type": "execute_result"
    }
   ],
   "source": [
    "# Create a cross-tabulation of the Attrition and WorkLifeBalance variables\n",
    "pd.crosstab(columns=[df.Attrition],index=[df.WorkLifeBalance],margins=True,normalize='index')"
   ]
  },
  {
   "cell_type": "code",
   "execution_count": 24,
   "id": "d1b84e1b",
   "metadata": {},
   "outputs": [
    {
     "data": {
      "text/plain": [
       "<AxesSubplot:xlabel='WorkLifeBalance'>"
      ]
     },
     "execution_count": 24,
     "metadata": {},
     "output_type": "execute_result"
    },
    {
     "data": {
      "image/png": "[encoded data removed]",
      "text/plain": [
       "<Figure size 432x288 with 1 Axes>"
      ]
     },
     "metadata": {},
     "output_type": "display_data"
    }
   ],
   "source": [
    "# Create a cross-tabulation of the Attrition and WorkLifeBalance variables\n",
    "ct1 = pd.crosstab(columns=[df.Attrition],index=[df.WorkLifeBalance],margins=True,normalize='index')\n",
    "\n",
    "# Plot the cross-tabulation\n",
    "ct1.plot()"
   ]
  },
  {
   "cell_type": "markdown",
   "id": "ebed7a9c",
   "metadata": {},
   "source": [
    "> **```The data suggests that employees who have a good work-life balance are more likely to stay with the company, while those who do not feel they have a good balance are more likely to consider leaving. This makes sense, as people who feel overwhelmed or overworked may be more likely to look for opportunities elsewhere.```**"
   ]
  },
  {
   "cell_type": "markdown",
   "id": "16a1f641",
   "metadata": {},
   "source": [
    "<a id='Visualization'></a>\n",
    "## Visualization"
   ]
  },
  {
   "cell_type": "markdown",
   "id": "a1087910",
   "metadata": {},
   "source": [
    "**Distribution Plot of some parameters**"
   ]
  },
  {
   "cell_type": "code",
   "execution_count": 25,
   "id": "0aa7d408",
   "metadata": {},
   "outputs": [
    {
     "data": {
      "image/png": "[encoded data removed]",
      "text/plain": [
       "<Figure size 720x720 with 10 Axes>"
      ]
     },
     "metadata": {},
     "output_type": "display_data"
    }
   ],
   "source": [
    "warnings.filterwarnings('always')\n",
    "warnings.filterwarnings('ignore')\n",
    "\n",
    "# Set the color for all plots\n",
    "color = '#264653'\n",
    "\n",
    "# Create a figure with five rows and two columns\n",
    "fig, ax = plt.subplots(5, 2, figsize=(10, 10))\n",
    "\n",
    "# Create the first plot\n",
    "sns.distplot(df['TotalWorkingYears'], color=color, ax=ax[0, 0])\n",
    "\n",
    "# Create the second plot\n",
    "sns.distplot(df['MonthlyIncome'], color=color, ax=ax[0, 1])\n",
    "\n",
    "# Create the third plot\n",
    "sns.distplot(df['YearsAtCompany'], color=color, ax=ax[1, 0])\n",
    "\n",
    "# Create the fourth plot\n",
    "sns.distplot(df['DistanceFromHome'], color=color, ax=ax[1, 1])\n",
    "\n",
    "# Create the fifth plot\n",
    "sns.distplot(df['YearsInCurrentRole'], color=color, ax=ax[2, 0])\n",
    "\n",
    "# Create the sixth plot\n",
    "sns.distplot(df['YearsWithCurrManager'], color=color, ax=ax[2, 1])\n",
    "\n",
    "# Create the seventh plot\n",
    "sns.distplot(df['YearsSinceLastPromotion'], color=color, ax=ax[3, 0])\n",
    "\n",
    "# Create the eighth plot\n",
    "sns.distplot(df['PercentSalaryHike'], color=color, ax = ax[3,1])\n",
    "\n",
    "# Create the nineth plot\n",
    "sns.distplot(df['YearsSinceLastPromotion'], color=color, ax = ax[4,0])\n",
    "\n",
    "# Create the tenth plot\n",
    "sns.distplot(df['TrainingTimesLastYear'], color=color, ax = ax[4,1])\n",
    "\n",
    "plt.tight_layout()\n",
    "plt.show()"
   ]
  },
  {
   "cell_type": "markdown",
   "id": "27d36386",
   "metadata": {},
   "source": [
    "> **```The above multiple plot figure visualizes the distribution of multiple variables at the same time, and can be helpful for comparing the distributions of different variables or for identifying patterns and trends in the employee data.```**"
   ]
  }
 ],
 "metadata": {
  "kernelspec": {
   "display_name": "Python 3 (ipykernel)",
   "language": "python",
   "name": "python3"
  },
  "language_info": {
   "codemirror_mode": {
    "name": "ipython",
    "version": 3
   },
   "file_extension": ".py",
   "mimetype": "text/x-python",
   "name": "python",
   "nbconvert_exporter": "python",
   "pygments_lexer": "ipython3",
   "version": "3.9.12"
  }
 },
 "nbformat": 4,
 "nbformat_minor": 5
}
